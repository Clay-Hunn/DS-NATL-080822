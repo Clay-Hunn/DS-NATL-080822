{
 "cells": [
  {
   "cell_type": "code",
   "execution_count": 1,
   "metadata": {},
   "outputs": [],
   "source": [
    "import pandas as pd\n",
    "import seaborn as sns\n",
    "from sklearn.linear_model import LogisticRegression\n",
    "from sklearn.metrics import roc_auc_score, roc_curve, PrecisionRecallDisplay, auc, RocCurveDisplay\n",
    "from sklearn.metrics import ConfusionMatrixDisplay, precision_recall_curve\n",
    "from sklearn.model_selection import train_test_split\n",
    "from sklearn.preprocessing import OneHotEncoder, StandardScaler\n",
    "from sklearn.dummy import DummyClassifier\n"
   ]
  },
  {
   "cell_type": "markdown",
   "metadata": {},
   "source": [
    "## Precision-Recall Curves - For When ROC Fails"
   ]
  },
  {
   "cell_type": "markdown",
   "metadata": {},
   "source": [
    "Okay, hopefully you've all seen and get ROC-AUC by now. The ROC-AUC is a great tool for assessing your model's overall performance and for finding the right threshold for a clasification model. But!  It does have some limitations. Let's explore that."
   ]
  },
  {
   "cell_type": "markdown",
   "metadata": {},
   "source": [
    "#### First thing, getting a dataset"
   ]
  },
  {
   "cell_type": "code",
   "execution_count": 2,
   "metadata": {},
   "outputs": [],
   "source": [
    "data = sns.load_dataset('taxis')"
   ]
  },
  {
   "cell_type": "code",
   "execution_count": 3,
   "metadata": {},
   "outputs": [
    {
     "data": {
      "text/plain": [
       "yellow    5451\n",
       "green      982\n",
       "Name: color, dtype: int64"
      ]
     },
     "execution_count": 3,
     "metadata": {},
     "output_type": "execute_result"
    }
   ],
   "source": [
    "data.color.value_counts()"
   ]
  },
  {
   "cell_type": "markdown",
   "metadata": {},
   "source": [
    "Okay, here's a dataset dealing with various taxi rides. Our client is a graphic designer who wants to comparing yellow and green cabs. For some reason, known as 'I need an example', they want to try to predict the color of a cab based on other factors of a cab ride. Since I'm just doing an example to show metrics and I'm not trying to incorperate all the data, I'm going to drop some columns that would take too much preprocessing, just for example. "
   ]
  },
  {
   "cell_type": "code",
   "execution_count": 4,
   "metadata": {},
   "outputs": [
    {
     "name": "stdout",
     "output_type": "stream",
     "text": [
      "<class 'pandas.core.frame.DataFrame'>\n",
      "RangeIndex: 6433 entries, 0 to 6432\n",
      "Data columns (total 14 columns):\n",
      " #   Column           Non-Null Count  Dtype  \n",
      "---  ------           --------------  -----  \n",
      " 0   pickup           6433 non-null   object \n",
      " 1   dropoff          6433 non-null   object \n",
      " 2   passengers       6433 non-null   int64  \n",
      " 3   distance         6433 non-null   float64\n",
      " 4   fare             6433 non-null   float64\n",
      " 5   tip              6433 non-null   float64\n",
      " 6   tolls            6433 non-null   float64\n",
      " 7   total            6433 non-null   float64\n",
      " 8   color            6433 non-null   object \n",
      " 9   payment          6389 non-null   object \n",
      " 10  pickup_zone      6407 non-null   object \n",
      " 11  dropoff_zone     6388 non-null   object \n",
      " 12  pickup_borough   6407 non-null   object \n",
      " 13  dropoff_borough  6388 non-null   object \n",
      "dtypes: float64(5), int64(1), object(8)\n",
      "memory usage: 703.7+ KB\n"
     ]
    }
   ],
   "source": [
    "data.info()"
   ]
  },
  {
   "cell_type": "code",
   "execution_count": 5,
   "metadata": {},
   "outputs": [],
   "source": [
    "# dropping columns I don't want to deal with. \n",
    "# I don't feel like dealing with the time, and the pickup_zone and dropoff_zone both have a ton of values. \n",
    "data_dropped = data.drop(['pickup', 'dropoff','pickup_zone','dropoff_zone'], axis = 1)\n",
    "\n",
    "# dropping nans\n",
    "data_drop_nan = data_dropped.dropna()\n",
    "\n",
    "# creating data and target dataframes\n",
    "data_X = data_drop_nan.drop('color', axis = 1)\n",
    "target = data_drop_nan.color\n",
    "\n",
    "# I'm going to relabel the target column into binary. This is won't cause data leak issues. \n",
    "# I am leaving scaling and OHE for after the tts of course.\n",
    "target_binary = target.replace(to_replace = ['yellow', 'green'], value = [0,1])\n",
    "\n",
    "# train test split\n",
    "# I'm going to stratify based on target because there's *some* imbalance. \n",
    "X_train, X_test, y_train, y_test = train_test_split(data_X, target_binary, stratify = target_binary, random_state=14)"
   ]
  },
  {
   "cell_type": "code",
   "execution_count": 6,
   "metadata": {},
   "outputs": [
    {
     "name": "stdout",
     "output_type": "stream",
     "text": [
      "y train ratio = 5.549586776859504\n",
      "y test ratio = 5.553719008264463\n"
     ]
    }
   ],
   "source": [
    "print('y train ratio = '+ str(y_train.value_counts()[0]/y_train.value_counts()[1]))\n",
    "print('y test ratio = '+ str(y_test.value_counts()[0]/y_test.value_counts()[1]))"
   ]
  },
  {
   "cell_type": "markdown",
   "metadata": {},
   "source": [
    "The ratio here is around 5.5 to 1, which is fairly imbalanced. Let's see what happens when we run a pretty simple model on it. First, preprocessing.\n",
    "\n",
    "In a bit we're going to cover ColumnTransformer and Pipelines that will make these steps quicker, for now I'm going to fly through this, I just need a simple model so I can show off AUC."
   ]
  },
  {
   "cell_type": "code",
   "execution_count": 7,
   "metadata": {},
   "outputs": [],
   "source": [
    "ohe1 = OneHotEncoder(sparse = False, handle_unknown = 'ignore')\n",
    "scaler1 = StandardScaler()"
   ]
  },
  {
   "cell_type": "code",
   "execution_count": 8,
   "metadata": {},
   "outputs": [
    {
     "data": {
      "text/html": [
       "<div>\n",
       "<style scoped>\n",
       "    .dataframe tbody tr th:only-of-type {\n",
       "        vertical-align: middle;\n",
       "    }\n",
       "\n",
       "    .dataframe tbody tr th {\n",
       "        vertical-align: top;\n",
       "    }\n",
       "\n",
       "    .dataframe thead tr th {\n",
       "        text-align: left;\n",
       "    }\n",
       "</style>\n",
       "<table border=\"1\" class=\"dataframe\">\n",
       "  <thead>\n",
       "    <tr>\n",
       "      <th></th>\n",
       "      <th>payment_cash</th>\n",
       "      <th>payment_credit card</th>\n",
       "      <th>pickup_borough_Bronx</th>\n",
       "      <th>pickup_borough_Brooklyn</th>\n",
       "      <th>pickup_borough_Manhattan</th>\n",
       "      <th>pickup_borough_Queens</th>\n",
       "      <th>dropoff_borough_Bronx</th>\n",
       "      <th>dropoff_borough_Brooklyn</th>\n",
       "      <th>dropoff_borough_Manhattan</th>\n",
       "      <th>dropoff_borough_Queens</th>\n",
       "      <th>dropoff_borough_Staten Island</th>\n",
       "    </tr>\n",
       "  </thead>\n",
       "  <tbody>\n",
       "    <tr>\n",
       "      <th>3373</th>\n",
       "      <td>1.0</td>\n",
       "      <td>0.0</td>\n",
       "      <td>0.0</td>\n",
       "      <td>0.0</td>\n",
       "      <td>1.0</td>\n",
       "      <td>0.0</td>\n",
       "      <td>0.0</td>\n",
       "      <td>0.0</td>\n",
       "      <td>1.0</td>\n",
       "      <td>0.0</td>\n",
       "      <td>0.0</td>\n",
       "    </tr>\n",
       "    <tr>\n",
       "      <th>3032</th>\n",
       "      <td>0.0</td>\n",
       "      <td>1.0</td>\n",
       "      <td>0.0</td>\n",
       "      <td>0.0</td>\n",
       "      <td>1.0</td>\n",
       "      <td>0.0</td>\n",
       "      <td>0.0</td>\n",
       "      <td>0.0</td>\n",
       "      <td>1.0</td>\n",
       "      <td>0.0</td>\n",
       "      <td>0.0</td>\n",
       "    </tr>\n",
       "    <tr>\n",
       "      <th>6056</th>\n",
       "      <td>1.0</td>\n",
       "      <td>0.0</td>\n",
       "      <td>0.0</td>\n",
       "      <td>0.0</td>\n",
       "      <td>1.0</td>\n",
       "      <td>0.0</td>\n",
       "      <td>0.0</td>\n",
       "      <td>0.0</td>\n",
       "      <td>1.0</td>\n",
       "      <td>0.0</td>\n",
       "      <td>0.0</td>\n",
       "    </tr>\n",
       "    <tr>\n",
       "      <th>5859</th>\n",
       "      <td>0.0</td>\n",
       "      <td>1.0</td>\n",
       "      <td>0.0</td>\n",
       "      <td>0.0</td>\n",
       "      <td>0.0</td>\n",
       "      <td>1.0</td>\n",
       "      <td>0.0</td>\n",
       "      <td>0.0</td>\n",
       "      <td>0.0</td>\n",
       "      <td>1.0</td>\n",
       "      <td>0.0</td>\n",
       "    </tr>\n",
       "    <tr>\n",
       "      <th>4125</th>\n",
       "      <td>0.0</td>\n",
       "      <td>1.0</td>\n",
       "      <td>0.0</td>\n",
       "      <td>0.0</td>\n",
       "      <td>1.0</td>\n",
       "      <td>0.0</td>\n",
       "      <td>0.0</td>\n",
       "      <td>0.0</td>\n",
       "      <td>0.0</td>\n",
       "      <td>1.0</td>\n",
       "      <td>0.0</td>\n",
       "    </tr>\n",
       "  </tbody>\n",
       "</table>\n",
       "</div>"
      ],
      "text/plain": [
       "     payment_cash payment_credit card pickup_borough_Bronx  \\\n",
       "3373          1.0                 0.0                  0.0   \n",
       "3032          0.0                 1.0                  0.0   \n",
       "6056          1.0                 0.0                  0.0   \n",
       "5859          0.0                 1.0                  0.0   \n",
       "4125          0.0                 1.0                  0.0   \n",
       "\n",
       "     pickup_borough_Brooklyn pickup_borough_Manhattan pickup_borough_Queens  \\\n",
       "3373                     0.0                      1.0                   0.0   \n",
       "3032                     0.0                      1.0                   0.0   \n",
       "6056                     0.0                      1.0                   0.0   \n",
       "5859                     0.0                      0.0                   1.0   \n",
       "4125                     0.0                      1.0                   0.0   \n",
       "\n",
       "     dropoff_borough_Bronx dropoff_borough_Brooklyn dropoff_borough_Manhattan  \\\n",
       "3373                   0.0                      0.0                       1.0   \n",
       "3032                   0.0                      0.0                       1.0   \n",
       "6056                   0.0                      0.0                       1.0   \n",
       "5859                   0.0                      0.0                       0.0   \n",
       "4125                   0.0                      0.0                       0.0   \n",
       "\n",
       "     dropoff_borough_Queens dropoff_borough_Staten Island  \n",
       "3373                    0.0                           0.0  \n",
       "3032                    0.0                           0.0  \n",
       "6056                    0.0                           0.0  \n",
       "5859                    1.0                           0.0  \n",
       "4125                    1.0                           0.0  "
      ]
     },
     "metadata": {},
     "output_type": "display_data"
    },
    {
     "data": {
      "text/html": [
       "<div>\n",
       "<style scoped>\n",
       "    .dataframe tbody tr th:only-of-type {\n",
       "        vertical-align: middle;\n",
       "    }\n",
       "\n",
       "    .dataframe tbody tr th {\n",
       "        vertical-align: top;\n",
       "    }\n",
       "\n",
       "    .dataframe thead tr th {\n",
       "        text-align: left;\n",
       "    }\n",
       "</style>\n",
       "<table border=\"1\" class=\"dataframe\">\n",
       "  <thead>\n",
       "    <tr>\n",
       "      <th></th>\n",
       "      <th>distance</th>\n",
       "      <th>fare</th>\n",
       "      <th>tip</th>\n",
       "      <th>tolls</th>\n",
       "      <th>total</th>\n",
       "    </tr>\n",
       "  </thead>\n",
       "  <tbody>\n",
       "    <tr>\n",
       "      <th>3373</th>\n",
       "      <td>-0.578939</td>\n",
       "      <td>-0.691482</td>\n",
       "      <td>-0.841316</td>\n",
       "      <td>-0.232806</td>\n",
       "      <td>-0.699282</td>\n",
       "    </tr>\n",
       "    <tr>\n",
       "      <th>3032</th>\n",
       "      <td>-0.101838</td>\n",
       "      <td>-0.077354</td>\n",
       "      <td>0.543505</td>\n",
       "      <td>-0.232806</td>\n",
       "      <td>0.101735</td>\n",
       "    </tr>\n",
       "    <tr>\n",
       "      <th>6056</th>\n",
       "      <td>-0.633155</td>\n",
       "      <td>-0.738723</td>\n",
       "      <td>-0.841316</td>\n",
       "      <td>-0.232806</td>\n",
       "      <td>-0.972800</td>\n",
       "    </tr>\n",
       "    <tr>\n",
       "      <th>5859</th>\n",
       "      <td>-0.527434</td>\n",
       "      <td>-0.644242</td>\n",
       "      <td>-0.342780</td>\n",
       "      <td>-0.232806</td>\n",
       "      <td>-0.725071</td>\n",
       "    </tr>\n",
       "    <tr>\n",
       "      <th>4125</th>\n",
       "      <td>3.774603</td>\n",
       "      <td>3.701895</td>\n",
       "      <td>1.757886</td>\n",
       "      <td>4.046515</td>\n",
       "      <td>3.822360</td>\n",
       "    </tr>\n",
       "  </tbody>\n",
       "</table>\n",
       "</div>"
      ],
      "text/plain": [
       "      distance      fare       tip     tolls     total\n",
       "3373 -0.578939 -0.691482 -0.841316 -0.232806 -0.699282\n",
       "3032 -0.101838 -0.077354  0.543505 -0.232806  0.101735\n",
       "6056 -0.633155 -0.738723 -0.841316 -0.232806 -0.972800\n",
       "5859 -0.527434 -0.644242 -0.342780 -0.232806 -0.725071\n",
       "4125  3.774603  3.701895  1.757886  4.046515  3.822360"
      ]
     },
     "metadata": {},
     "output_type": "display_data"
    }
   ],
   "source": [
    "columns_for_OHE = ['payment', 'pickup_borough', 'dropoff_borough']\n",
    "columns_for_scaling = ['distance', 'fare', 'tip', 'tolls', 'total']\n",
    "# passengers is weird here, it's possible to think of them as just a numeric feature to be scaled, \n",
    "# but also to see it as an ordinal category. In this case I'm going to not scale it, but in a real project\n",
    "# I might test both versions to see if it changes the model. \n",
    "\n",
    "\n",
    "#Fit the ohe encoder on the categorical data:\n",
    "ohe1.fit(X_train[columns_for_OHE])\n",
    "\n",
    "#Transform the training data\n",
    "encoded_columns = pd.DataFrame(ohe1.transform(X_train[columns_for_OHE]), \n",
    "                               columns = [ohe1.get_feature_names_out()], \n",
    "                               index = X_train.index)\n",
    "\n",
    "#Fit the scaler on the continuous numeric variables\n",
    "scaler1.fit(X_train[columns_for_scaling])\n",
    "\n",
    "#Transform using the scaler\n",
    "scaled_columns = pd.DataFrame(scaler1.transform(X_train[columns_for_scaling]), \n",
    "                              columns = [scaler1.feature_names_in_], \n",
    "                              index = X_train.index)\n",
    "\n",
    "\n",
    "display(encoded_columns.head())\n",
    "display(scaled_columns.head())"
   ]
  },
  {
   "cell_type": "code",
   "execution_count": 9,
   "metadata": {},
   "outputs": [
    {
     "data": {
      "text/html": [
       "<div>\n",
       "<style scoped>\n",
       "    .dataframe tbody tr th:only-of-type {\n",
       "        vertical-align: middle;\n",
       "    }\n",
       "\n",
       "    .dataframe tbody tr th {\n",
       "        vertical-align: top;\n",
       "    }\n",
       "\n",
       "    .dataframe thead tr th {\n",
       "        text-align: left;\n",
       "    }\n",
       "</style>\n",
       "<table border=\"1\" class=\"dataframe\">\n",
       "  <thead>\n",
       "    <tr>\n",
       "      <th></th>\n",
       "      <th>distance</th>\n",
       "      <th>fare</th>\n",
       "      <th>tip</th>\n",
       "      <th>tolls</th>\n",
       "      <th>total</th>\n",
       "      <th>payment_cash</th>\n",
       "      <th>payment_credit card</th>\n",
       "      <th>pickup_borough_Bronx</th>\n",
       "      <th>pickup_borough_Brooklyn</th>\n",
       "      <th>pickup_borough_Manhattan</th>\n",
       "      <th>pickup_borough_Queens</th>\n",
       "      <th>dropoff_borough_Bronx</th>\n",
       "      <th>dropoff_borough_Brooklyn</th>\n",
       "      <th>dropoff_borough_Manhattan</th>\n",
       "      <th>dropoff_borough_Queens</th>\n",
       "      <th>dropoff_borough_Staten Island</th>\n",
       "      <th>passengers</th>\n",
       "    </tr>\n",
       "  </thead>\n",
       "  <tbody>\n",
       "    <tr>\n",
       "      <th>3373</th>\n",
       "      <td>-0.578939</td>\n",
       "      <td>-0.691482</td>\n",
       "      <td>-0.841316</td>\n",
       "      <td>-0.232806</td>\n",
       "      <td>-0.699282</td>\n",
       "      <td>1.0</td>\n",
       "      <td>0.0</td>\n",
       "      <td>0.0</td>\n",
       "      <td>0.0</td>\n",
       "      <td>1.0</td>\n",
       "      <td>0.0</td>\n",
       "      <td>0.0</td>\n",
       "      <td>0.0</td>\n",
       "      <td>1.0</td>\n",
       "      <td>0.0</td>\n",
       "      <td>0.0</td>\n",
       "      <td>1</td>\n",
       "    </tr>\n",
       "    <tr>\n",
       "      <th>3032</th>\n",
       "      <td>-0.101838</td>\n",
       "      <td>-0.077354</td>\n",
       "      <td>0.543505</td>\n",
       "      <td>-0.232806</td>\n",
       "      <td>0.101735</td>\n",
       "      <td>0.0</td>\n",
       "      <td>1.0</td>\n",
       "      <td>0.0</td>\n",
       "      <td>0.0</td>\n",
       "      <td>1.0</td>\n",
       "      <td>0.0</td>\n",
       "      <td>0.0</td>\n",
       "      <td>0.0</td>\n",
       "      <td>1.0</td>\n",
       "      <td>0.0</td>\n",
       "      <td>0.0</td>\n",
       "      <td>1</td>\n",
       "    </tr>\n",
       "    <tr>\n",
       "      <th>6056</th>\n",
       "      <td>-0.633155</td>\n",
       "      <td>-0.738723</td>\n",
       "      <td>-0.841316</td>\n",
       "      <td>-0.232806</td>\n",
       "      <td>-0.972800</td>\n",
       "      <td>1.0</td>\n",
       "      <td>0.0</td>\n",
       "      <td>0.0</td>\n",
       "      <td>0.0</td>\n",
       "      <td>1.0</td>\n",
       "      <td>0.0</td>\n",
       "      <td>0.0</td>\n",
       "      <td>0.0</td>\n",
       "      <td>1.0</td>\n",
       "      <td>0.0</td>\n",
       "      <td>0.0</td>\n",
       "      <td>1</td>\n",
       "    </tr>\n",
       "    <tr>\n",
       "      <th>5859</th>\n",
       "      <td>-0.527434</td>\n",
       "      <td>-0.644242</td>\n",
       "      <td>-0.342780</td>\n",
       "      <td>-0.232806</td>\n",
       "      <td>-0.725071</td>\n",
       "      <td>0.0</td>\n",
       "      <td>1.0</td>\n",
       "      <td>0.0</td>\n",
       "      <td>0.0</td>\n",
       "      <td>0.0</td>\n",
       "      <td>1.0</td>\n",
       "      <td>0.0</td>\n",
       "      <td>0.0</td>\n",
       "      <td>0.0</td>\n",
       "      <td>1.0</td>\n",
       "      <td>0.0</td>\n",
       "      <td>1</td>\n",
       "    </tr>\n",
       "    <tr>\n",
       "      <th>4125</th>\n",
       "      <td>3.774603</td>\n",
       "      <td>3.701895</td>\n",
       "      <td>1.757886</td>\n",
       "      <td>4.046515</td>\n",
       "      <td>3.822360</td>\n",
       "      <td>0.0</td>\n",
       "      <td>1.0</td>\n",
       "      <td>0.0</td>\n",
       "      <td>0.0</td>\n",
       "      <td>1.0</td>\n",
       "      <td>0.0</td>\n",
       "      <td>0.0</td>\n",
       "      <td>0.0</td>\n",
       "      <td>0.0</td>\n",
       "      <td>1.0</td>\n",
       "      <td>0.0</td>\n",
       "      <td>1</td>\n",
       "    </tr>\n",
       "    <tr>\n",
       "      <th>...</th>\n",
       "      <td>...</td>\n",
       "      <td>...</td>\n",
       "      <td>...</td>\n",
       "      <td>...</td>\n",
       "      <td>...</td>\n",
       "      <td>...</td>\n",
       "      <td>...</td>\n",
       "      <td>...</td>\n",
       "      <td>...</td>\n",
       "      <td>...</td>\n",
       "      <td>...</td>\n",
       "      <td>...</td>\n",
       "      <td>...</td>\n",
       "      <td>...</td>\n",
       "      <td>...</td>\n",
       "      <td>...</td>\n",
       "      <td>...</td>\n",
       "    </tr>\n",
       "    <tr>\n",
       "      <th>3745</th>\n",
       "      <td>0.049966</td>\n",
       "      <td>0.253330</td>\n",
       "      <td>0.760815</td>\n",
       "      <td>-0.232806</td>\n",
       "      <td>0.336960</td>\n",
       "      <td>0.0</td>\n",
       "      <td>1.0</td>\n",
       "      <td>0.0</td>\n",
       "      <td>0.0</td>\n",
       "      <td>1.0</td>\n",
       "      <td>0.0</td>\n",
       "      <td>0.0</td>\n",
       "      <td>0.0</td>\n",
       "      <td>1.0</td>\n",
       "      <td>0.0</td>\n",
       "      <td>0.0</td>\n",
       "      <td>1</td>\n",
       "    </tr>\n",
       "    <tr>\n",
       "      <th>1990</th>\n",
       "      <td>-0.237378</td>\n",
       "      <td>-0.313558</td>\n",
       "      <td>0.249497</td>\n",
       "      <td>-0.232806</td>\n",
       "      <td>-0.225705</td>\n",
       "      <td>0.0</td>\n",
       "      <td>1.0</td>\n",
       "      <td>0.0</td>\n",
       "      <td>0.0</td>\n",
       "      <td>1.0</td>\n",
       "      <td>0.0</td>\n",
       "      <td>0.0</td>\n",
       "      <td>0.0</td>\n",
       "      <td>1.0</td>\n",
       "      <td>0.0</td>\n",
       "      <td>0.0</td>\n",
       "      <td>1</td>\n",
       "    </tr>\n",
       "    <tr>\n",
       "      <th>1834</th>\n",
       "      <td>4.338450</td>\n",
       "      <td>3.701895</td>\n",
       "      <td>5.047367</td>\n",
       "      <td>-0.232806</td>\n",
       "      <td>3.975530</td>\n",
       "      <td>0.0</td>\n",
       "      <td>1.0</td>\n",
       "      <td>0.0</td>\n",
       "      <td>0.0</td>\n",
       "      <td>0.0</td>\n",
       "      <td>1.0</td>\n",
       "      <td>0.0</td>\n",
       "      <td>0.0</td>\n",
       "      <td>1.0</td>\n",
       "      <td>0.0</td>\n",
       "      <td>0.0</td>\n",
       "      <td>1</td>\n",
       "    </tr>\n",
       "    <tr>\n",
       "      <th>462</th>\n",
       "      <td>-0.494904</td>\n",
       "      <td>-0.502520</td>\n",
       "      <td>-0.415217</td>\n",
       "      <td>-0.232806</td>\n",
       "      <td>-0.425764</td>\n",
       "      <td>0.0</td>\n",
       "      <td>1.0</td>\n",
       "      <td>0.0</td>\n",
       "      <td>0.0</td>\n",
       "      <td>1.0</td>\n",
       "      <td>0.0</td>\n",
       "      <td>0.0</td>\n",
       "      <td>0.0</td>\n",
       "      <td>1.0</td>\n",
       "      <td>0.0</td>\n",
       "      <td>0.0</td>\n",
       "      <td>1</td>\n",
       "    </tr>\n",
       "    <tr>\n",
       "      <th>3315</th>\n",
       "      <td>-0.429845</td>\n",
       "      <td>-0.549761</td>\n",
       "      <td>-0.202168</td>\n",
       "      <td>-0.232806</td>\n",
       "      <td>-0.425764</td>\n",
       "      <td>0.0</td>\n",
       "      <td>1.0</td>\n",
       "      <td>0.0</td>\n",
       "      <td>0.0</td>\n",
       "      <td>1.0</td>\n",
       "      <td>0.0</td>\n",
       "      <td>0.0</td>\n",
       "      <td>0.0</td>\n",
       "      <td>1.0</td>\n",
       "      <td>0.0</td>\n",
       "      <td>0.0</td>\n",
       "      <td>5</td>\n",
       "    </tr>\n",
       "  </tbody>\n",
       "</table>\n",
       "<p>4755 rows × 17 columns</p>\n",
       "</div>"
      ],
      "text/plain": [
       "      distance      fare       tip     tolls     total payment_cash  \\\n",
       "3373 -0.578939 -0.691482 -0.841316 -0.232806 -0.699282          1.0   \n",
       "3032 -0.101838 -0.077354  0.543505 -0.232806  0.101735          0.0   \n",
       "6056 -0.633155 -0.738723 -0.841316 -0.232806 -0.972800          1.0   \n",
       "5859 -0.527434 -0.644242 -0.342780 -0.232806 -0.725071          0.0   \n",
       "4125  3.774603  3.701895  1.757886  4.046515  3.822360          0.0   \n",
       "...        ...       ...       ...       ...       ...          ...   \n",
       "3745  0.049966  0.253330  0.760815 -0.232806  0.336960          0.0   \n",
       "1990 -0.237378 -0.313558  0.249497 -0.232806 -0.225705          0.0   \n",
       "1834  4.338450  3.701895  5.047367 -0.232806  3.975530          0.0   \n",
       "462  -0.494904 -0.502520 -0.415217 -0.232806 -0.425764          0.0   \n",
       "3315 -0.429845 -0.549761 -0.202168 -0.232806 -0.425764          0.0   \n",
       "\n",
       "     payment_credit card pickup_borough_Bronx pickup_borough_Brooklyn  \\\n",
       "3373                 0.0                  0.0                     0.0   \n",
       "3032                 1.0                  0.0                     0.0   \n",
       "6056                 0.0                  0.0                     0.0   \n",
       "5859                 1.0                  0.0                     0.0   \n",
       "4125                 1.0                  0.0                     0.0   \n",
       "...                  ...                  ...                     ...   \n",
       "3745                 1.0                  0.0                     0.0   \n",
       "1990                 1.0                  0.0                     0.0   \n",
       "1834                 1.0                  0.0                     0.0   \n",
       "462                  1.0                  0.0                     0.0   \n",
       "3315                 1.0                  0.0                     0.0   \n",
       "\n",
       "     pickup_borough_Manhattan pickup_borough_Queens dropoff_borough_Bronx  \\\n",
       "3373                      1.0                   0.0                   0.0   \n",
       "3032                      1.0                   0.0                   0.0   \n",
       "6056                      1.0                   0.0                   0.0   \n",
       "5859                      0.0                   1.0                   0.0   \n",
       "4125                      1.0                   0.0                   0.0   \n",
       "...                       ...                   ...                   ...   \n",
       "3745                      1.0                   0.0                   0.0   \n",
       "1990                      1.0                   0.0                   0.0   \n",
       "1834                      0.0                   1.0                   0.0   \n",
       "462                       1.0                   0.0                   0.0   \n",
       "3315                      1.0                   0.0                   0.0   \n",
       "\n",
       "     dropoff_borough_Brooklyn dropoff_borough_Manhattan  \\\n",
       "3373                      0.0                       1.0   \n",
       "3032                      0.0                       1.0   \n",
       "6056                      0.0                       1.0   \n",
       "5859                      0.0                       0.0   \n",
       "4125                      0.0                       0.0   \n",
       "...                       ...                       ...   \n",
       "3745                      0.0                       1.0   \n",
       "1990                      0.0                       1.0   \n",
       "1834                      0.0                       1.0   \n",
       "462                       0.0                       1.0   \n",
       "3315                      0.0                       1.0   \n",
       "\n",
       "     dropoff_borough_Queens dropoff_borough_Staten Island passengers  \n",
       "3373                    0.0                           0.0          1  \n",
       "3032                    0.0                           0.0          1  \n",
       "6056                    0.0                           0.0          1  \n",
       "5859                    1.0                           0.0          1  \n",
       "4125                    1.0                           0.0          1  \n",
       "...                     ...                           ...        ...  \n",
       "3745                    0.0                           0.0          1  \n",
       "1990                    0.0                           0.0          1  \n",
       "1834                    0.0                           0.0          1  \n",
       "462                     0.0                           0.0          1  \n",
       "3315                    0.0                           0.0          5  \n",
       "\n",
       "[4755 rows x 17 columns]"
      ]
     },
     "execution_count": 9,
     "metadata": {},
     "output_type": "execute_result"
    }
   ],
   "source": [
    "# Joining the two transformed data frame\n",
    "X_train_encscaled = scaled_columns.join(encoded_columns)\n",
    "\n",
    "# And now adding the one column I didn't encode or scale. \n",
    "# Again, ColumnTransformer and Pipelines makes this much nicer.\n",
    "X_train_encscaled['passengers']= X_train.passengers\n",
    "\n",
    "X_train_encscaled "
   ]
  },
  {
   "cell_type": "markdown",
   "metadata": {},
   "source": [
    "Finally done with that! Let's put this in a model, get an AUC score, and maybe I can talk about Precision-Recall Curves."
   ]
  },
  {
   "cell_type": "code",
   "execution_count": 10,
   "metadata": {
    "scrolled": true
   },
   "outputs": [
    {
     "data": {
      "text/html": [
       "<style>#sk-container-id-1 {color: black;background-color: white;}#sk-container-id-1 pre{padding: 0;}#sk-container-id-1 div.sk-toggleable {background-color: white;}#sk-container-id-1 label.sk-toggleable__label {cursor: pointer;display: block;width: 100%;margin-bottom: 0;padding: 0.3em;box-sizing: border-box;text-align: center;}#sk-container-id-1 label.sk-toggleable__label-arrow:before {content: \"▸\";float: left;margin-right: 0.25em;color: #696969;}#sk-container-id-1 label.sk-toggleable__label-arrow:hover:before {color: black;}#sk-container-id-1 div.sk-estimator:hover label.sk-toggleable__label-arrow:before {color: black;}#sk-container-id-1 div.sk-toggleable__content {max-height: 0;max-width: 0;overflow: hidden;text-align: left;background-color: #f0f8ff;}#sk-container-id-1 div.sk-toggleable__content pre {margin: 0.2em;color: black;border-radius: 0.25em;background-color: #f0f8ff;}#sk-container-id-1 input.sk-toggleable__control:checked~div.sk-toggleable__content {max-height: 200px;max-width: 100%;overflow: auto;}#sk-container-id-1 input.sk-toggleable__control:checked~label.sk-toggleable__label-arrow:before {content: \"▾\";}#sk-container-id-1 div.sk-estimator input.sk-toggleable__control:checked~label.sk-toggleable__label {background-color: #d4ebff;}#sk-container-id-1 div.sk-label input.sk-toggleable__control:checked~label.sk-toggleable__label {background-color: #d4ebff;}#sk-container-id-1 input.sk-hidden--visually {border: 0;clip: rect(1px 1px 1px 1px);clip: rect(1px, 1px, 1px, 1px);height: 1px;margin: -1px;overflow: hidden;padding: 0;position: absolute;width: 1px;}#sk-container-id-1 div.sk-estimator {font-family: monospace;background-color: #f0f8ff;border: 1px dotted black;border-radius: 0.25em;box-sizing: border-box;margin-bottom: 0.5em;}#sk-container-id-1 div.sk-estimator:hover {background-color: #d4ebff;}#sk-container-id-1 div.sk-parallel-item::after {content: \"\";width: 100%;border-bottom: 1px solid gray;flex-grow: 1;}#sk-container-id-1 div.sk-label:hover label.sk-toggleable__label {background-color: #d4ebff;}#sk-container-id-1 div.sk-serial::before {content: \"\";position: absolute;border-left: 1px solid gray;box-sizing: border-box;top: 0;bottom: 0;left: 50%;z-index: 0;}#sk-container-id-1 div.sk-serial {display: flex;flex-direction: column;align-items: center;background-color: white;padding-right: 0.2em;padding-left: 0.2em;position: relative;}#sk-container-id-1 div.sk-item {position: relative;z-index: 1;}#sk-container-id-1 div.sk-parallel {display: flex;align-items: stretch;justify-content: center;background-color: white;position: relative;}#sk-container-id-1 div.sk-item::before, #sk-container-id-1 div.sk-parallel-item::before {content: \"\";position: absolute;border-left: 1px solid gray;box-sizing: border-box;top: 0;bottom: 0;left: 50%;z-index: -1;}#sk-container-id-1 div.sk-parallel-item {display: flex;flex-direction: column;z-index: 1;position: relative;background-color: white;}#sk-container-id-1 div.sk-parallel-item:first-child::after {align-self: flex-end;width: 50%;}#sk-container-id-1 div.sk-parallel-item:last-child::after {align-self: flex-start;width: 50%;}#sk-container-id-1 div.sk-parallel-item:only-child::after {width: 0;}#sk-container-id-1 div.sk-dashed-wrapped {border: 1px dashed gray;margin: 0 0.4em 0.5em 0.4em;box-sizing: border-box;padding-bottom: 0.4em;background-color: white;}#sk-container-id-1 div.sk-label label {font-family: monospace;font-weight: bold;display: inline-block;line-height: 1.2em;}#sk-container-id-1 div.sk-label-container {text-align: center;}#sk-container-id-1 div.sk-container {/* jupyter's `normalize.less` sets `[hidden] { display: none; }` but bootstrap.min.css set `[hidden] { display: none !important; }` so we also need the `!important` here to be able to override the default hidden behavior on the sphinx rendered scikit-learn.org. See: https://github.com/scikit-learn/scikit-learn/issues/21755 */display: inline-block !important;position: relative;}#sk-container-id-1 div.sk-text-repr-fallback {display: none;}</style><div id=\"sk-container-id-1\" class=\"sk-top-container\"><div class=\"sk-text-repr-fallback\"><pre>LogisticRegression(random_state=14)</pre><b>In a Jupyter environment, please rerun this cell to show the HTML representation or trust the notebook. <br />On GitHub, the HTML representation is unable to render, please try loading this page with nbviewer.org.</b></div><div class=\"sk-container\" hidden><div class=\"sk-item\"><div class=\"sk-estimator sk-toggleable\"><input class=\"sk-toggleable__control sk-hidden--visually\" id=\"sk-estimator-id-1\" type=\"checkbox\" checked><label for=\"sk-estimator-id-1\" class=\"sk-toggleable__label sk-toggleable__label-arrow\">LogisticRegression</label><div class=\"sk-toggleable__content\"><pre>LogisticRegression(random_state=14)</pre></div></div></div></div></div>"
      ],
      "text/plain": [
       "LogisticRegression(random_state=14)"
      ]
     },
     "execution_count": 10,
     "metadata": {},
     "output_type": "execute_result"
    }
   ],
   "source": [
    "baselinemodel = DummyClassifier()\n",
    "lrmodel1 = LogisticRegression(random_state = 14)\n",
    "\n",
    "baselinemodel.fit(X_train_encscaled, y_train)\n",
    "lrmodel1.fit(X_train_encscaled, y_train)"
   ]
  },
  {
   "cell_type": "code",
   "execution_count": 11,
   "metadata": {},
   "outputs": [],
   "source": [
    "def pseudopipeline(Xdata, fitenc, fitscaler):\n",
    "    '''\n",
    "    Takes in a test X data set, fit ohe and fit scaler.\n",
    "    Returns a properly set up X_test to feed to fit models.\n",
    "    '''\n",
    "    pipe_encoded_columns = pd.DataFrame(fitenc.transform(Xdata[columns_for_OHE]), \n",
    "                               columns = [fitenc.get_feature_names_out()], \n",
    "                               index = Xdata.index)\n",
    "    pipe_scaled_columns = pd.DataFrame(fitscaler.transform(Xdata[columns_for_scaling]), \n",
    "                              columns = [fitscaler.feature_names_in_], \n",
    "                              index = Xdata.index)\n",
    "    \n",
    "\n",
    "    \n",
    "    \n",
    "    X_df_encscaled = pipe_scaled_columns.join(pipe_encoded_columns)\n",
    "    X_df_encscaled['passengers']= Xdata.passengers\n",
    "    return X_df_encscaled"
   ]
  },
  {
   "cell_type": "code",
   "execution_count": 12,
   "metadata": {},
   "outputs": [],
   "source": [
    "#I'll run my X_test data into my pseudopipeline\n",
    "\n",
    "X_test_enscaled = pseudopipeline(X_test, ohe1, scaler1)"
   ]
  },
  {
   "cell_type": "code",
   "execution_count": 13,
   "metadata": {},
   "outputs": [],
   "source": [
    "#Generating predictions with default threshold\n",
    "y_pred_dummy = baselinemodel.predict(X_test_enscaled)\n",
    "y_pred_1 = lrmodel1.predict(X_test_enscaled)\n",
    "\n",
    "\n",
    "\n",
    "#Generating my predictions as probabilities\n",
    "y_pred_proba_dummy = baselinemodel.predict_proba(X_test_enscaled)\n",
    "y_pred_proba_1 = lrmodel1.predict_proba(X_test_enscaled)\n",
    "\n",
    "#\n",
    "def confusiondisplay(y_true, y_pred):\n",
    "    cm = ConfusionMatrixDisplay.from_predictions(y_true, y_pred)\n",
    "    return cm"
   ]
  },
  {
   "cell_type": "code",
   "execution_count": 14,
   "metadata": {},
   "outputs": [
    {
     "data": {
      "text/plain": [
       "array([[0.84731861, 0.15268139],\n",
       "       [0.84731861, 0.15268139],\n",
       "       [0.84731861, 0.15268139],\n",
       "       ...,\n",
       "       [0.84731861, 0.15268139],\n",
       "       [0.84731861, 0.15268139],\n",
       "       [0.84731861, 0.15268139]])"
      ]
     },
     "execution_count": 14,
     "metadata": {},
     "output_type": "execute_result"
    }
   ],
   "source": [
    "y_pred_proba_dummy"
   ]
  },
  {
   "cell_type": "code",
   "execution_count": 15,
   "metadata": {},
   "outputs": [
    {
     "name": "stdout",
     "output_type": "stream",
     "text": [
      "DummyConfusion Matrix\n"
     ]
    },
    {
     "data": {
      "image/png": "[encoded data removed]",
      "text/plain": [
       "<Figure size 432x288 with 2 Axes>"
      ]
     },
     "metadata": {
      "needs_background": "light"
     },
     "output_type": "display_data"
    }
   ],
   "source": [
    "confusiondisplay(y_test, y_pred_dummy)\n",
    "print('DummyConfusion Matrix')"
   ]
  },
  {
   "cell_type": "code",
   "execution_count": 16,
   "metadata": {},
   "outputs": [
    {
     "name": "stdout",
     "output_type": "stream",
     "text": [
      "Model 1 Confusion Matrix\n"
     ]
    },
    {
     "data": {
      "text/plain": [
       "<sklearn.metrics._plot.confusion_matrix.ConfusionMatrixDisplay at 0x7f9ce4286af0>"
      ]
     },
     "execution_count": 16,
     "metadata": {},
     "output_type": "execute_result"
    },
    {
     "data": {
      "image/png": "[encoded data removed]",
      "text/plain": [
       "<Figure size 432x288 with 2 Axes>"
      ]
     },
     "metadata": {
      "needs_background": "light"
     },
     "output_type": "display_data"
    }
   ],
   "source": [
    "print('Model 1 Confusion Matrix')\n",
    "confusiondisplay(y_test, y_pred_1)"
   ]
  },
  {
   "cell_type": "code",
   "execution_count": 17,
   "metadata": {},
   "outputs": [],
   "source": [
    "def plotrocauc(y_true, y_pred_probs, model_name):\n",
    "    fpr, tpr, thresholds = roc_curve(y_true, y_pred_probs)\n",
    "    roc_auc = auc(fpr, tpr)\n",
    "    display = RocCurveDisplay(fpr=fpr, tpr=tpr, roc_auc=roc_auc)\n",
    "    display.plot()\n",
    "    auc_score = roc_auc_score(y_true, y_pred_probs)\n",
    "    print('ROC - AUC score for ' + model_name + ' is ' + str(auc_score))\n",
    "    "
   ]
  },
  {
   "cell_type": "code",
   "execution_count": 18,
   "metadata": {},
   "outputs": [
    {
     "name": "stdout",
     "output_type": "stream",
     "text": [
      "ROC - AUC score for model1 is 0.942053448445494\n"
     ]
    },
    {
     "data": {
      "image/png": "[encoded data removed]",
      "text/plain": [
       "<Figure size 432x288 with 1 Axes>"
      ]
     },
     "metadata": {
      "needs_background": "light"
     },
     "output_type": "display_data"
    }
   ],
   "source": [
    "plotrocauc(y_test, y_pred_proba_1[ :,1], 'model1')\n"
   ]
  },
  {
   "cell_type": "code",
   "execution_count": 19,
   "metadata": {},
   "outputs": [
    {
     "name": "stdout",
     "output_type": "stream",
     "text": [
      "ROC - AUC score for Dummy is 0.5\n"
     ]
    },
    {
     "data": {
      "image/png": "[encoded data removed]",
      "text/plain": [
       "<Figure size 432x288 with 1 Axes>"
      ]
     },
     "metadata": {
      "needs_background": "light"
     },
     "output_type": "display_data"
    }
   ],
   "source": [
    "plotrocauc(y_test, y_pred_proba_dummy[ :,1], 'Dummy')"
   ]
  },
  {
   "cell_type": "markdown",
   "metadata": {},
   "source": [
    "Okay, so what's the deal with this PR curve?  Where a ROC curve charts true and false positive *rates*, the Precision-Recall curve charts... precision and recall. \n",
    "\n",
    "Remember that Precision is the same as the number of true positives divided by the total number of both true and false positives. This is the same as the 'TPR' in the ROC-AUC metric.  A high precision means that you are rarely missing positive cases. As we've seen, you can get more of the true positive by trading off, with a corresponding growth in false negatives. \n",
    "\n",
    "So the real difference with PR-AUC and ROC-AUC is Recall, which divides your total number of true positive guesses by the overall number of positive guesses. To increase recall, you need to weed out false negatives. \n",
    "\n",
    "|                   | Guessed True  | Guessed False  |\n",
    "| --------------    | --------------|--------------- |\n",
    "| **Actually True** |        TP     |        FN      |\n",
    "| **Actually False**|        FP     |        TN      |\n",
    "\n",
    "\n",
    "Precision Recall can be a more useful metric in cases of imbalanced datasets. An ROC-AUC on an imbalanced dataset might 'get away with' an inflated TPR and FPR if the imbalance leads to a relatively 'good' rate of true negatives.\n",
    "\n",
    "\n",
    "Consider a case like this:\n",
    "\n",
    "TP=9, FN=1, FP=90, TN=900 \n",
    "\n",
    "|                    | Guessed Green     | Guessed Yellow     |\n",
    "| --------------     | ------------------|------------------- |\n",
    "| **Actually Green** |        9          |        1           |\n",
    "| **Actually Yellow**|       90          |       900          |\n",
    "\n",
    "Now, how well do we think this model worked? Well, if we're trying to find Greens, we did pretty well. And while we had a lot of yellows in the green guesses, we were fairly discriminating. Mostly, we were able to class the Yellows into the right column.\n",
    "\n",
    "\n",
    "Let's see how this would reflect in our ROC-AUC curve at whatever threshold we're using. In this case our FPR is **FP / (FP + TN)** or 1/(1+900). The large amount of 'True Yellows' in the sample lead this to have a 'good' FPR score, maybe better than we might feel is justified. The large number of 'Actually Yellow' guesses will 'stick' the curve to the left. On the other hand, the TPR (**TP/(TP+FP)**)is less good at (9/9+90). That's obviously not good, but it is skewed by the exaggerated number of 'Actually Yellow' responses in the dataset. Although we could use the ROC to find a good threshold with our model, the ROC-AUC score in general will be skewed by this class imbalance.\n",
    "\n",
    "Let's compare that to the Precision - Recall metric. The Precision is the same as the TPR **(TP/(TP+FP)**), but Recall is **TP / (TP + FN)** or 9/(9+1), or 90%. That's not bad. The PR-Curve 'looks at' the upper left, upper right, and lower left cells, but doesn't look at the lower right. In other words, **TN** is not accounted for in the PR-AUC. "
   ]
  },
  {
   "cell_type": "code",
   "execution_count": 20,
   "metadata": {},
   "outputs": [],
   "source": [
    "def plotprauc(fitestimator, xtest, y_true, model_name):\n",
    "    precision, recall, _ = precision_recall_curve(y_true, y_pred_probs)\n",
    "    PrecisionRecallDisplay.from_estimator(estimator = fitestimator, X = xtest, y = y_true, name = model_name)\n",
    "    auc_score = auc(recall, precision)\n",
    "    print('PR - AUC score for ' + model_name + ' is ' + str(auc_score))\n",
    "    #disp.plot()"
   ]
  },
  {
   "cell_type": "code",
   "execution_count": 21,
   "metadata": {},
   "outputs": [
    {
     "ename": "TypeError",
     "evalue": "plotprauc() takes 4 positional arguments but 5 were given",
     "output_type": "error",
     "traceback": [
      "\u001b[0;31m---------------------------------------------------------------------------\u001b[0m",
      "\u001b[0;31mTypeError\u001b[0m                                 Traceback (most recent call last)",
      "\u001b[0;32m<ipython-input-21-607a49d8819b>\u001b[0m in \u001b[0;36m<module>\u001b[0;34m\u001b[0m\n\u001b[0;32m----> 1\u001b[0;31m \u001b[0mplotprauc\u001b[0m\u001b[0;34m(\u001b[0m\u001b[0mlrmodel1\u001b[0m\u001b[0;34m,\u001b[0m \u001b[0mX_test_enscaled\u001b[0m\u001b[0;34m,\u001b[0m \u001b[0my_test\u001b[0m\u001b[0;34m,\u001b[0m  \u001b[0;34m'Model 1'\u001b[0m\u001b[0;34m,\u001b[0m \u001b[0my_pred_proba_1\u001b[0m\u001b[0;34m[\u001b[0m \u001b[0;34m:\u001b[0m\u001b[0;34m,\u001b[0m\u001b[0;36m1\u001b[0m\u001b[0;34m]\u001b[0m\u001b[0;34m)\u001b[0m\u001b[0;34m\u001b[0m\u001b[0;34m\u001b[0m\u001b[0m\n\u001b[0m",
      "\u001b[0;31mTypeError\u001b[0m: plotprauc() takes 4 positional arguments but 5 were given"
     ]
    }
   ],
   "source": [
    "plotprauc(lrmodel1, X_test_enscaled, y_test,  'Model 1', y_pred_proba_1[ :,1])"
   ]
  },
  {
   "cell_type": "code",
   "execution_count": null,
   "metadata": {},
   "outputs": [],
   "source": [
    "plotprauc(baselinemodel, X_test_enscaled, y_test,'Dummy', y_pred_proba_dummy[ :,1])"
   ]
  },
  {
   "cell_type": "code",
   "execution_count": null,
   "metadata": {},
   "outputs": [],
   "source": []
  }
 ],
 "metadata": {
  "kernelspec": {
   "display_name": "Python (learn-env)",
   "language": "python",
   "name": "learn-env"
  },
  "language_info": {
   "codemirror_mode": {
    "name": "ipython",
    "version": 3
   },
   "file_extension": ".py",
   "mimetype": "text/x-python",
   "name": "python",
   "nbconvert_exporter": "python",
   "pygments_lexer": "ipython3",
   "version": "3.8.5"
  }
 },
 "nbformat": 4,
 "nbformat_minor": 4
}
